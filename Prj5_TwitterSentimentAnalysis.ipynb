{
  "nbformat": 4,
  "nbformat_minor": 0,
  "metadata": {
    "colab": {
      "name": "Prj5_TwitterSentimentAnalysis.ipynb",
      "provenance": [],
      "collapsed_sections": [],
      "authorship_tag": "ABX9TyPikQgaWWWZsVD/jyxobgTz",
      "include_colab_link": true
    },
    "kernelspec": {
      "name": "python3",
      "display_name": "Python 3"
    },
    "language_info": {
      "name": "python"
    }
  },
  "cells": [
    {
      "cell_type": "markdown",
      "metadata": {
        "id": "view-in-github",
        "colab_type": "text"
      },
      "source": [
        "<a href=\"https://colab.research.google.com/github/maneesh51/TwitterAnalysis_App/blob/main/Prj5_TwitterSentimentAnalysis.ipynb\" target=\"_parent\"><img src=\"https://colab.research.google.com/assets/colab-badge.svg\" alt=\"Open In Colab\"/></a>"
      ]
    },
    {
      "cell_type": "markdown",
      "source": [
        "# 1. Importing libraries\n",
        "\n"
      ],
      "metadata": {
        "id": "vMy40VVNqDKr"
      }
    },
    {
      "cell_type": "code",
      "source": [
        "from textblob import TextBlob\n",
        "\n",
        "## to handle twotter api\n",
        "import tweepy\n",
        "import matplotlib.pyplot as plt\n",
        "import numpy as np\n",
        "\n",
        "# import snscrape.modules.twitter as sntwitter\n"
      ],
      "metadata": {
        "id": "TPbyV8YrqIfK"
      },
      "execution_count": null,
      "outputs": []
    },
    {
      "cell_type": "code",
      "source": [
        "print(tweepy.__version__)"
      ],
      "metadata": {
        "colab": {
          "base_uri": "https://localhost:8080/"
        },
        "id": "BPZVrypj5p2S",
        "outputId": "a68e74c4-202b-4e86-a38f-8855d25a63b8"
      },
      "execution_count": null,
      "outputs": [
        {
          "output_type": "stream",
          "name": "stdout",
          "text": [
            "3.10.0\n"
          ]
        }
      ]
    },
    {
      "cell_type": "code",
      "source": [
        "consumer_api_key = \"lHhuoIVHfKeh0anXYU44dBPnl\"\n",
        "consumer_api_key_secret = \"ds85MhwhdTCw1HqNJzTDp6RGjme3QtEU7yU94YyuaTwrBrP7KL\"\n",
        "\n",
        "bearer_token = \"AAAAAAAAAAAAAAAAAAAAAM16bgEAAAAAmjQvlB5Cx1ionozswVNx6y9ktNI%3DttLDul66dRCXMU7ZkeKW1M4UBBwq0XTdVoukWLynROljcwIbdk\"\n",
        "\n",
        "client_id = \"Nks0bkI0SmJRZHI5MWlmcnFCZU06MTpjaQ\"\n",
        "client_id_secret = \"2FLODlmTjSWgAqxdLKs5Dwr8nbexb6v40xWQ0FctMPjfEsD4Pr\"\n",
        "\n",
        "access_token = \"3257421576-ZT4Fl19jGVt9MjTDbc7cn9pBUoatJsf0Leefnrs\"\n",
        "access_token_secret = \"zNr7SDV3J3LjwVEVTCsyK8XS3kGXxRbW8L6Iy1bAeJNpG\"\n",
        "\n",
        "auth = tweepy.OAuthHandler(consumer_api_key, consumer_api_key_secret)\n",
        "auth.set_access_token(access_token, access_token_secret)\n",
        "\n",
        "api = tweepy.API(auth, wait_on_rate_limit=True)\n",
        "type(api)\n"
      ],
      "metadata": {
        "colab": {
          "base_uri": "https://localhost:8080/"
        },
        "id": "4aRjNU5mqIhd",
        "outputId": "cc7d2e6c-e0fb-4cc7-c6e9-04b2bd3f0b74"
      },
      "execution_count": null,
      "outputs": [
        {
          "output_type": "execute_result",
          "data": {
            "text/plain": [
              "tweepy.api.API"
            ]
          },
          "metadata": {},
          "execution_count": 3
        }
      ]
    },
    {
      "cell_type": "code",
      "source": [
        "### fetching tweets from this API\n",
        "\n",
        "search_term = \"KGF\"\n",
        "no_of_tweets = 10\n",
        "tweets = tweepy.Cursor(api.search, q = search_term).items(no_of_tweets)\n",
        "print(tweets)"
      ],
      "metadata": {
        "colab": {
          "base_uri": "https://localhost:8080/"
        },
        "id": "tDF1WY_EqIjs",
        "outputId": "eb9b29b0-d48b-44e0-ef12-82cf81e9a01a"
      },
      "execution_count": null,
      "outputs": [
        {
          "output_type": "stream",
          "name": "stdout",
          "text": [
            "<tweepy.cursor.ItemIterator object at 0x7f1e89ad8fd0>\n"
          ]
        }
      ]
    },
    {
      "cell_type": "code",
      "source": [
        "i=0\n",
        "for tweet in tweets:\n",
        "  print(i, tweet.text, 'time: ', tweet.created_at, 'Place: ', tweet.place, 'Retweet_count: ', tweet.retweet_count, 'Quoted_tweet: ', tweet.is_quote_status, 'favourite_count: ', tweet.favorite_count, 'favourited: ', tweet.favorited, 'Possibly_sensitive: ', 'lang: ', tweet.lang, '\\n')\n",
        "  i+=1"
      ],
      "metadata": {
        "id": "3G--8pNKqIlv",
        "colab": {
          "base_uri": "https://localhost:8080/"
        },
        "outputId": "eb1a5bd6-e382-4f2d-b2ba-6feb43dd7f4f"
      },
      "execution_count": null,
      "outputs": [
        {
          "output_type": "stream",
          "name": "stdout",
          "text": [
            "0 RT @SouthmovieFlix: Most u liked\n",
            "#KGF2 #KGF #YashBOSS𓃵 #PrasanthNeel #KGFChpater2 time:  2022-04-21 10:58:25 Place:  None Retweet_count:  2 Quoted_tweet:  False favourite_count:  0 favourited:  False Possibly_sensitive:  lang:  en \n",
            "\n",
            "1 RT @madan3: One big reason for KGF’s success is it relates to Indian middle class Youngsters! “Dream Big, Take Risk, Win” time:  2022-04-21 10:58:22 Place:  None Retweet_count:  2130 Quoted_tweet:  False favourite_count:  0 favourited:  False Possibly_sensitive:  lang:  en \n",
            "\n",
            "2 RT @Get_Suriyafied: Kollywood KGF is on the way❗💥\n",
            "\n",
            "@Suriya_offl @Sudha_Kongara #VaadiVaasal https://t.co/LmETJQUz1y time:  2022-04-21 10:58:22 Place:  None Retweet_count:  103 Quoted_tweet:  False favourite_count:  0 favourited:  False Possibly_sensitive:  lang:  en \n",
            "\n",
            "3 RT @SarcasmPandit: The Mehbooba song from KGF 2 is ❤️ time:  2022-04-21 10:58:21 Place:  None Retweet_count:  0 Quoted_tweet:  False favourite_count:  0 favourited:  False Possibly_sensitive:  lang:  en \n",
            "\n",
            "4 @software_sisya Both KGF 1 and KGF 2 are slow poisons time:  2022-04-21 10:58:16 Place:  None Retweet_count:  0 Quoted_tweet:  False favourite_count:  0 favourited:  False Possibly_sensitive:  lang:  en \n",
            "\n",
            "5 RT @taran_adarsh: ‘KGF 2’ PRODUCERS ANNOUNCE NEW FILM WITH SUDHA KONGARA… #HombaleFilms - the producers of #KGF and #KGF2 - announce their… time:  2022-04-21 10:58:12 Place:  None Retweet_count:  654 Quoted_tweet:  False favourite_count:  0 favourited:  False Possibly_sensitive:  lang:  en \n",
            "\n",
            "6 RT @team_hyv: KGF देखी तब समझ में आया की अक्षय कुमार भी अजय देवगन और शाहरुख खान केे साथ विमल क्यों बेचने लगा हैं... time:  2022-04-21 10:58:11 Place:  None Retweet_count:  3788 Quoted_tweet:  False favourite_count:  0 favourited:  False Possibly_sensitive:  lang:  hi \n",
            "\n",
            "7 RT @team_hyv: KGF देखी तब समझ में आया की अक्षय कुमार भी अजय देवगन और शाहरुख खान केे साथ विमल क्यों बेचने लगा हैं... time:  2022-04-21 10:58:09 Place:  None Retweet_count:  3788 Quoted_tweet:  False favourite_count:  0 favourited:  False Possibly_sensitive:  lang:  hi \n",
            "\n",
            "8 RT @SouthmovieFlix: Most u liked\n",
            "#KGF2 #KGF #YashBOSS𓃵 #PrasanthNeel #KGFChpater2 time:  2022-04-21 10:58:07 Place:  None Retweet_count:  2 Quoted_tweet:  False favourite_count:  0 favourited:  False Possibly_sensitive:  lang:  en \n",
            "\n",
            "9 RT @soulZ_Cash: The entire KGF series in a nutshell: https://t.co/ZFPcKYf7s8 time:  2022-04-21 10:58:06 Place:  None Retweet_count:  1028 Quoted_tweet:  False favourite_count:  0 favourited:  False Possibly_sensitive:  lang:  en \n",
            "\n"
          ]
        }
      ]
    },
    {
      "cell_type": "markdown",
      "source": [
        "## How does textblob work example:\n",
        "\n",
        "#### Polarity is the output that lies between [-1,1], where -1 refers to negative sentiment and +1 refers to positive sentiment. Subjectivity is the output that lies within [0,1] and refers to personal opinions and judgments."
      ],
      "metadata": {
        "id": "Vll-ZRbfwQ3J"
      }
    },
    {
      "cell_type": "code",
      "source": [
        "a = 'he is good in playing basketball'\n",
        "b = 'he is bad in playing basketball'\n",
        "c = 'he is not good at all'\n",
        "\n",
        "print(TextBlob(a).sentiment, '\\n', TextBlob(b).sentiment, '\\n', TextBlob(c).sentiment)"
      ],
      "metadata": {
        "colab": {
          "base_uri": "https://localhost:8080/"
        },
        "id": "WJZbFmLzqInY",
        "outputId": "4e6a3a25-c99b-46eb-de27-492040096f28"
      },
      "execution_count": null,
      "outputs": [
        {
          "output_type": "stream",
          "name": "stdout",
          "text": [
            "Sentiment(polarity=0.7, subjectivity=0.6000000000000001) \n",
            " Sentiment(polarity=-0.6999999999999998, subjectivity=0.6666666666666666) \n",
            " Sentiment(polarity=-0.35, subjectivity=0.6000000000000001)\n"
          ]
        }
      ]
    },
    {
      "cell_type": "markdown",
      "source": [
        "# Convert all tweets in percentage"
      ],
      "metadata": {
        "id": "BeybSH5OxJR9"
      }
    },
    {
      "cell_type": "code",
      "source": [
        "\n",
        "def Search_and_Sentiments(search_term, no_of_tweets, date_since, date_until):\n",
        "   \n",
        "  tweets = tweepy.Cursor(api.search, q = search_term, since=date_since, until=date_until).items(no_of_tweets)\n",
        "  \n",
        "  positive = 0\n",
        "  negative = 0\n",
        "  neutral = 0\n",
        "  polarity = 0\n",
        "\n",
        "  for tweet in tweets:\n",
        "    analysis = TextBlob(tweet.text)\n",
        "    polarity += analysis.sentiment.polarity\n",
        "\n",
        "    if(analysis.sentiment.polarity == 0):\n",
        "      neutral+=1\n",
        "    if(analysis.sentiment.polarity < 0):\n",
        "      negative+=1\n",
        "    if(analysis.sentiment.polarity > 0):\n",
        "      positive+=1\n",
        "\n",
        "    positive_pcent = format(100*positive/no_of_tweets, '.2f')\n",
        "    negative_pcent = format(100*negative/no_of_tweets, '.2f')\n",
        "    neutral_pcent = format(100*neutral/no_of_tweets, '.2f')\n",
        "    polarity_pcent = format(100*polarity/no_of_tweets, '.2f')\n",
        "\n",
        "  return np.array([positive_pcent, negative_pcent, neutral_pcent, polarity_pcent])\n"
      ],
      "metadata": {
        "id": "-UeM5R0pwy__"
      },
      "execution_count": null,
      "outputs": []
    },
    {
      "cell_type": "code",
      "source": [
        "date_since = '2022-02-01'; date_until = '2022-04-20'\n",
        "\n",
        "SentimentsPcent = Search_and_Sentiments(search_term='Ukraine', no_of_tweets=1000, date_since=date_since, date_until=date_until)\n",
        "\n",
        "print('positive:', SentimentsPcent[0], 'negative:', SentimentsPcent[1], 'neutral:', SentimentsPcent[2], 'polarity:', SentimentsPcent[3])\n"
      ],
      "metadata": {
        "colab": {
          "base_uri": "https://localhost:8080/"
        },
        "id": "YVECmmwtEWrb",
        "outputId": "1b0e51c3-0538-435f-e19c-79a2e8910601"
      },
      "execution_count": null,
      "outputs": [
        {
          "output_type": "stream",
          "name": "stdout",
          "text": [
            "positive: 29.10 negative: 25.10 neutral: 45.80 polarity: 2.70\n"
          ]
        }
      ]
    },
    {
      "cell_type": "code",
      "source": [
        "labels = ['Positive {:}'.format(SentimentsPcent[0]), 'Negative {:}'.format(SentimentsPcent[1]), 'Neutral {:}'.format(SentimentsPcent[2])]\n",
        "colors = ['g', 'r', 'b']\n",
        "patches, texts = plt.pie(SentimentsPcent[:3], colors=colors, wedgeprops = {\"alpha\": 0.5}, startangle=90)\n",
        "plt.legend(patches, labels, fontsize=11)\n",
        "plt.show()"
      ],
      "metadata": {
        "id": "86HfI0aEwzCD",
        "colab": {
          "base_uri": "https://localhost:8080/",
          "height": 248
        },
        "outputId": "3bef7147-2f98-455f-8876-96ea543c0172"
      },
      "execution_count": null,
      "outputs": [
        {
          "output_type": "display_data",
          "data": {
            "text/plain": [
              "<Figure size 432x288 with 1 Axes>"
            ],
            "image/png": "[encoded data removed]"
          },
          "metadata": {}
        }
      ]
    },
    {
      "cell_type": "code",
      "source": [
        ""
      ],
      "metadata": {
        "id": "DCt3uDGzwzEi"
      },
      "execution_count": null,
      "outputs": []
    },
    {
      "cell_type": "code",
      "source": [
        ""
      ],
      "metadata": {
        "id": "izTxC9ak5Jnb"
      },
      "execution_count": null,
      "outputs": []
    },
    {
      "cell_type": "code",
      "source": [
        ""
      ],
      "metadata": {
        "id": "mKPxAYIU5Jpq"
      },
      "execution_count": null,
      "outputs": []
    },
    {
      "cell_type": "code",
      "source": [
        ""
      ],
      "metadata": {
        "id": "6m618ehOwzGQ"
      },
      "execution_count": null,
      "outputs": []
    },
    {
      "cell_type": "code",
      "execution_count": null,
      "metadata": {
        "id": "gnWtWGEop-AF"
      },
      "outputs": [],
      "source": [
        ""
      ]
    }
  ]
}